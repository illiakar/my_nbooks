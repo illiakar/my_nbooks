{
 "cells": [
  {
   "cell_type": "markdown",
   "id": "bf6a52d0-2e58-4f12-97a8-baec412de01b",
   "metadata": {
    "tags": []
   },
   "source": [
    "# First Notebook"
   ]
  },
  {
   "cell_type": "markdown",
   "id": "2f761036-4d85-4a78-9359-d8dd33c8799a",
   "metadata": {
    "tags": []
   },
   "source": [
    "## Illia Karbivnychyi"
   ]
  },
  {
   "cell_type": "code",
   "execution_count": 1,
   "id": "04a49047-b21f-4431-bf22-acc69a964188",
   "metadata": {
    "tags": []
   },
   "outputs": [],
   "source": [
    "import random\n",
    "randNums = [random.randint(30, 100) for x in range(40)]"
   ]
  },
  {
   "cell_type": "code",
   "execution_count": 2,
   "id": "36178417-a308-4b7f-804e-67819ea0df81",
   "metadata": {
    "tags": []
   },
   "outputs": [
    {
     "name": "stdout",
     "output_type": "stream",
     "text": [
      "31 31 36 36 37 45 46 48 49 49 52 54 55 56 62 64 65 66 66 67 67 68 69 72 72 74 77 79 80 80 81 82 83 84 89 92 96 97 99 100 "
     ]
    }
   ],
   "source": [
    "randNums.sort()\n",
    "for num in randNums:\n",
    "    print(num, end=\" \")"
   ]
  },
  {
   "cell_type": "markdown",
   "id": "80b3dfbf-7501-4b2f-a8ea-2f3e3d0bebe8",
   "metadata": {},
   "source": [
    "## The Sample Mean\n",
    "* Find the sum of the numbers\n",
    "* Divide the sum by the quantity of numbers"
   ]
  },
  {
   "cell_type": "markdown",
   "id": "f16e719f-aa51-4645-8208-c01e8b89d0b0",
   "metadata": {},
   "source": [
    "$\\overline{x}=\\frac{\\Sigma x_i}{n}$"
   ]
  },
  {
   "cell_type": "code",
   "execution_count": 3,
   "id": "d0b4cab0-a47b-4b8b-84bc-9baa71ed15d7",
   "metadata": {
    "tags": []
   },
   "outputs": [
    {
     "name": "stdout",
     "output_type": "stream",
     "text": [
      "66.40\n"
     ]
    }
   ],
   "source": [
    "mean = 0\n",
    "for num in randNums:\n",
    "    mean += num\n",
    "mean /= len(randNums)\n",
    "print(f\"{mean:.2f}\")"
   ]
  },
  {
   "cell_type": "markdown",
   "id": "6afd6227-96d4-40ae-b452-da285bb0d50b",
   "metadata": {
    "tags": []
   },
   "source": [
    "## The Median"
   ]
  },
  {
   "cell_type": "markdown",
   "id": "51a800f8-de08-4741-b7d7-f8d8def63b42",
   "metadata": {},
   "source": [
    "[Statistical Median](https://en.wikipedia.org/wiki/Median)"
   ]
  },
  {
   "cell_type": "code",
   "execution_count": 4,
   "id": "c6c4f8ed-6d4c-45ed-9ca0-8327197655ee",
   "metadata": {
    "tags": []
   },
   "outputs": [
    {
     "name": "stdout",
     "output_type": "stream",
     "text": [
      "67.0\n"
     ]
    }
   ],
   "source": [
    "# Given a sorted, even number of values:\n",
    "# Median on paper: Count the values and let the number of values be n. Find the #[n/2] and #[n/2 - 1] values. The median is the mean of these two numbers (their sum / 2).\n",
    "# Median using Python: Find the list's length. Locate the elements at indices [list's length / 2] and [(list's length / 2) - 1]. The median is the mean of these two elements  (their sum / 2).\n",
    "listLen = len(randNums)\n",
    "upperVal = randNums[int(listLen / 2)]\n",
    "lowerVal = randNums[int((listLen / 2) - 1)]\n",
    "median = (upperVal + lowerVal) / 2\n",
    "print(f\"{median:.1f}\")"
   ]
  }
 ],
 "metadata": {
  "kernelspec": {
   "display_name": "Python 3 (ipykernel)",
   "language": "python",
   "name": "python3"
  },
  "language_info": {
   "codemirror_mode": {
    "name": "ipython",
    "version": 3
   },
   "file_extension": ".py",
   "mimetype": "text/x-python",
   "name": "python",
   "nbconvert_exporter": "python",
   "pygments_lexer": "ipython3",
   "version": "3.11.5"
  }
 },
 "nbformat": 4,
 "nbformat_minor": 5
}
